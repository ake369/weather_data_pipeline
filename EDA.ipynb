{
 "cells": [
  {
   "cell_type": "code",
   "execution_count": 1,
   "id": "65a54991",
   "metadata": {},
   "outputs": [],
   "source": [
    "import pandas as pd\n",
    "import numpy as np\n",
    "import matplotlib.pyplot as plt"
   ]
  },
  {
   "cell_type": "markdown",
   "id": "38e16e73",
   "metadata": {},
   "source": [
    "Load the data"
   ]
  },
  {
   "cell_type": "code",
   "execution_count": 111,
   "id": "c6308584",
   "metadata": {},
   "outputs": [],
   "source": [
    "df  = pd.read_csv('data/wather_data.csv')"
   ]
  },
  {
   "cell_type": "code",
   "execution_count": 99,
   "id": "e0d04c15",
   "metadata": {},
   "outputs": [
    {
     "data": {
      "text/plain": [
       "(100, 6)"
      ]
     },
     "execution_count": 99,
     "metadata": {},
     "output_type": "execute_result"
    }
   ],
   "source": [
    "df.shape"
   ]
  },
  {
   "cell_type": "markdown",
   "id": "7b6ae9b6",
   "metadata": {},
   "source": [
    "***Check basic information***"
   ]
  },
  {
   "cell_type": "markdown",
   "id": "36fe8a84",
   "metadata": {},
   "source": [
    "* Get an overview of columns, data types, and non-null counts."
   ]
  },
  {
   "cell_type": "code",
   "execution_count": 100,
   "id": "37629888",
   "metadata": {},
   "outputs": [
    {
     "name": "stdout",
     "output_type": "stream",
     "text": [
      "<class 'pandas.core.frame.DataFrame'>\n",
      "RangeIndex: 100 entries, 0 to 99\n",
      "Data columns (total 6 columns):\n",
      " #   Column               Non-Null Count  Dtype  \n",
      "---  ------               --------------  -----  \n",
      " 0   date                 80 non-null     object \n",
      " 1   city                 100 non-null    object \n",
      " 2   temperature_celsius  42 non-null     float64\n",
      " 3   humidity_percent     47 non-null     float64\n",
      " 4   wind_speed_kph       55 non-null     float64\n",
      " 5   weather_condition    84 non-null     object \n",
      "dtypes: float64(3), object(3)\n",
      "memory usage: 4.8+ KB\n"
     ]
    }
   ],
   "source": [
    "df.info()    "
   ]
  },
  {
   "cell_type": "markdown",
   "id": "43f5f9f9",
   "metadata": {},
   "source": [
    "* Summary statistics for numerical columns."
   ]
  },
  {
   "cell_type": "code",
   "execution_count": 101,
   "id": "e7084685",
   "metadata": {},
   "outputs": [
    {
     "data": {
      "text/html": [
       "<div>\n",
       "<style scoped>\n",
       "    .dataframe tbody tr th:only-of-type {\n",
       "        vertical-align: middle;\n",
       "    }\n",
       "\n",
       "    .dataframe tbody tr th {\n",
       "        vertical-align: top;\n",
       "    }\n",
       "\n",
       "    .dataframe thead th {\n",
       "        text-align: right;\n",
       "    }\n",
       "</style>\n",
       "<table border=\"1\" class=\"dataframe\">\n",
       "  <thead>\n",
       "    <tr style=\"text-align: right;\">\n",
       "      <th></th>\n",
       "      <th>temperature_celsius</th>\n",
       "      <th>humidity_percent</th>\n",
       "      <th>wind_speed_kph</th>\n",
       "    </tr>\n",
       "  </thead>\n",
       "  <tbody>\n",
       "    <tr>\n",
       "      <th>count</th>\n",
       "      <td>42.000000</td>\n",
       "      <td>47.000000</td>\n",
       "      <td>55.000000</td>\n",
       "    </tr>\n",
       "    <tr>\n",
       "      <th>mean</th>\n",
       "      <td>8.400000</td>\n",
       "      <td>58.978723</td>\n",
       "      <td>14.352727</td>\n",
       "    </tr>\n",
       "    <tr>\n",
       "      <th>std</th>\n",
       "      <td>6.713147</td>\n",
       "      <td>17.352471</td>\n",
       "      <td>8.906674</td>\n",
       "    </tr>\n",
       "    <tr>\n",
       "      <th>min</th>\n",
       "      <td>-4.100000</td>\n",
       "      <td>30.000000</td>\n",
       "      <td>0.800000</td>\n",
       "    </tr>\n",
       "    <tr>\n",
       "      <th>25%</th>\n",
       "      <td>3.750000</td>\n",
       "      <td>44.500000</td>\n",
       "      <td>7.200000</td>\n",
       "    </tr>\n",
       "    <tr>\n",
       "      <th>50%</th>\n",
       "      <td>8.400000</td>\n",
       "      <td>60.000000</td>\n",
       "      <td>14.200000</td>\n",
       "    </tr>\n",
       "    <tr>\n",
       "      <th>75%</th>\n",
       "      <td>13.650000</td>\n",
       "      <td>74.500000</td>\n",
       "      <td>21.100000</td>\n",
       "    </tr>\n",
       "    <tr>\n",
       "      <th>max</th>\n",
       "      <td>19.300000</td>\n",
       "      <td>89.000000</td>\n",
       "      <td>29.900000</td>\n",
       "    </tr>\n",
       "  </tbody>\n",
       "</table>\n",
       "</div>"
      ],
      "text/plain": [
       "       temperature_celsius  humidity_percent  wind_speed_kph\n",
       "count            42.000000         47.000000       55.000000\n",
       "mean              8.400000         58.978723       14.352727\n",
       "std               6.713147         17.352471        8.906674\n",
       "min              -4.100000         30.000000        0.800000\n",
       "25%               3.750000         44.500000        7.200000\n",
       "50%               8.400000         60.000000       14.200000\n",
       "75%              13.650000         74.500000       21.100000\n",
       "max              19.300000         89.000000       29.900000"
      ]
     },
     "execution_count": 101,
     "metadata": {},
     "output_type": "execute_result"
    }
   ],
   "source": [
    "df.describe()"
   ]
  },
  {
   "cell_type": "markdown",
   "id": "25e37a39",
   "metadata": {},
   "source": [
    "- Preview the first few (four) rows."
   ]
  },
  {
   "cell_type": "code",
   "execution_count": 102,
   "id": "479dfee9",
   "metadata": {},
   "outputs": [
    {
     "data": {
      "text/html": [
       "<div>\n",
       "<style scoped>\n",
       "    .dataframe tbody tr th:only-of-type {\n",
       "        vertical-align: middle;\n",
       "    }\n",
       "\n",
       "    .dataframe tbody tr th {\n",
       "        vertical-align: top;\n",
       "    }\n",
       "\n",
       "    .dataframe thead th {\n",
       "        text-align: right;\n",
       "    }\n",
       "</style>\n",
       "<table border=\"1\" class=\"dataframe\">\n",
       "  <thead>\n",
       "    <tr style=\"text-align: right;\">\n",
       "      <th></th>\n",
       "      <th>date</th>\n",
       "      <th>city</th>\n",
       "      <th>temperature_celsius</th>\n",
       "      <th>humidity_percent</th>\n",
       "      <th>wind_speed_kph</th>\n",
       "      <th>weather_condition</th>\n",
       "    </tr>\n",
       "  </thead>\n",
       "  <tbody>\n",
       "    <tr>\n",
       "      <th>0</th>\n",
       "      <td>2023-01-01</td>\n",
       "      <td>New York</td>\n",
       "      <td>5.0</td>\n",
       "      <td>60.0</td>\n",
       "      <td>10.0</td>\n",
       "      <td>Sunny</td>\n",
       "    </tr>\n",
       "    <tr>\n",
       "      <th>1</th>\n",
       "      <td>01/02/2023</td>\n",
       "      <td>New York</td>\n",
       "      <td>NaN</td>\n",
       "      <td>65.0</td>\n",
       "      <td>12.0</td>\n",
       "      <td>Cloudy</td>\n",
       "    </tr>\n",
       "    <tr>\n",
       "      <th>2</th>\n",
       "      <td>03-01-2023</td>\n",
       "      <td>New York</td>\n",
       "      <td>7.0</td>\n",
       "      <td>NaN</td>\n",
       "      <td>8.0</td>\n",
       "      <td>Rainy</td>\n",
       "    </tr>\n",
       "    <tr>\n",
       "      <th>3</th>\n",
       "      <td>NaN</td>\n",
       "      <td>London</td>\n",
       "      <td>8.0</td>\n",
       "      <td>70.0</td>\n",
       "      <td>15.0</td>\n",
       "      <td>Unknown</td>\n",
       "    </tr>\n",
       "  </tbody>\n",
       "</table>\n",
       "</div>"
      ],
      "text/plain": [
       "         date      city  temperature_celsius  humidity_percent  \\\n",
       "0  2023-01-01  New York                  5.0              60.0   \n",
       "1  01/02/2023  New York                  NaN              65.0   \n",
       "2  03-01-2023  New York                  7.0               NaN   \n",
       "3         NaN    London                  8.0              70.0   \n",
       "\n",
       "   wind_speed_kph weather_condition  \n",
       "0            10.0             Sunny  \n",
       "1            12.0            Cloudy  \n",
       "2             8.0             Rainy  \n",
       "3            15.0           Unknown  "
      ]
     },
     "execution_count": 102,
     "metadata": {},
     "output_type": "execute_result"
    }
   ],
   "source": [
    "df.head(4)          "
   ]
  },
  {
   "cell_type": "markdown",
   "id": "5e898690",
   "metadata": {},
   "source": [
    "- Total missing values per column"
   ]
  },
  {
   "cell_type": "code",
   "execution_count": 103,
   "id": "121d4055",
   "metadata": {},
   "outputs": [
    {
     "data": {
      "text/plain": [
       "date                   20\n",
       "city                    0\n",
       "temperature_celsius    58\n",
       "humidity_percent       53\n",
       "wind_speed_kph         45\n",
       "weather_condition      16\n",
       "dtype: int64"
      ]
     },
     "execution_count": 103,
     "metadata": {},
     "output_type": "execute_result"
    }
   ],
   "source": [
    "\n",
    "df.isnull().sum()"
   ]
  },
  {
   "cell_type": "markdown",
   "id": "0bdf2f29",
   "metadata": {},
   "source": [
    "- Total missing values in all the columns"
   ]
  },
  {
   "cell_type": "code",
   "execution_count": 104,
   "id": "1bce82dc",
   "metadata": {},
   "outputs": [
    {
     "data": {
      "text/plain": [
       "192"
      ]
     },
     "execution_count": 104,
     "metadata": {},
     "output_type": "execute_result"
    }
   ],
   "source": [
    "int(df.isnull().sum().sum())"
   ]
  },
  {
   "cell_type": "code",
   "execution_count": 115,
   "id": "030eb607",
   "metadata": {},
   "outputs": [
    {
     "name": "stdout",
     "output_type": "stream",
     "text": [
      "['2023-01-01' '01/02/2023' '03-01-2023' nan '2023-01-02' '01/03/2023'\n",
      " '01-25-2023' '2023-01-12' '14-01-2023' '01-07-2023' '06/01/2023'\n",
      " '01/15/2023' '14.01.2023' '25/01/2023' '01/19/2023' '17/01/2023'\n",
      " '2023-01-05' '07/01/2023' '2023-01-26' '01/16/2023' '01/26/2023'\n",
      " '18-01-2023' '25.01.2023' '07.01.2023' '01/28/2023' '2023-01-17'\n",
      " '27.01.2023' '2023-01-29' '01-21-2023' '26.01.2023' '21.01.2023'\n",
      " '01/10/2023' '17.01.2023' '01/08/2023' '12.01.2023' '21/01/2023'\n",
      " '22/01/2023' '01-01-2023' '18.01.2023' '02-01-2023' '30.01.2023'\n",
      " '01-27-2023' '2023-01-08' '29.01.2023' '04-01-2023' '01/23/2023'\n",
      " '01-15-2023' '01-24-2023' '01-05-2023' '01-16-2023' '20-01-2023'\n",
      " '20.01.2023' '24.01.2023' '16/01/2023' '24/01/2023' '27-01-2023'\n",
      " '06-01-2023' '20/01/2023' '01-06-2023' '09-01-2023' '2023-01-11'\n",
      " '15/01/2023' '01/12/2023']\n"
     ]
    }
   ],
   "source": [
    "unique_dates = df['date'].unique()\n",
    "print(unique_dates)\n"
   ]
  },
  {
   "cell_type": "markdown",
   "id": "8e9ef29b",
   "metadata": {},
   "source": [
    "- Fill missing temperatures with city-wise average"
   ]
  },
  {
   "cell_type": "code",
   "execution_count": 105,
   "id": "eab8a005",
   "metadata": {},
   "outputs": [],
   "source": [
    "df[\"temperature_celsius\"] = df.groupby('city')['temperature_celsius'].transform(lambda x: x.fillna(x.mean()))"
   ]
  },
  {
   "cell_type": "code",
   "execution_count": 106,
   "id": "1ccea578",
   "metadata": {},
   "outputs": [
    {
     "data": {
      "text/plain": [
       "(100, 6)"
      ]
     },
     "execution_count": 106,
     "metadata": {},
     "output_type": "execute_result"
    }
   ],
   "source": [
    "df.shape"
   ]
  },
  {
   "cell_type": "markdown",
   "id": "931a89f5",
   "metadata": {},
   "source": [
    "- Drop rows with missing dates"
   ]
  },
  {
   "cell_type": "code",
   "execution_count": 107,
   "id": "76cb8a4f",
   "metadata": {},
   "outputs": [],
   "source": [
    "df.dropna(subset=['date'], inplace=True)"
   ]
  },
  {
   "cell_type": "code",
   "execution_count": 108,
   "id": "2e9ae221",
   "metadata": {},
   "outputs": [
    {
     "data": {
      "text/html": [
       "<div>\n",
       "<style scoped>\n",
       "    .dataframe tbody tr th:only-of-type {\n",
       "        vertical-align: middle;\n",
       "    }\n",
       "\n",
       "    .dataframe tbody tr th {\n",
       "        vertical-align: top;\n",
       "    }\n",
       "\n",
       "    .dataframe thead th {\n",
       "        text-align: right;\n",
       "    }\n",
       "</style>\n",
       "<table border=\"1\" class=\"dataframe\">\n",
       "  <thead>\n",
       "    <tr style=\"text-align: right;\">\n",
       "      <th></th>\n",
       "      <th>date</th>\n",
       "      <th>city</th>\n",
       "      <th>temperature_celsius</th>\n",
       "      <th>humidity_percent</th>\n",
       "      <th>wind_speed_kph</th>\n",
       "      <th>weather_condition</th>\n",
       "    </tr>\n",
       "  </thead>\n",
       "  <tbody>\n",
       "    <tr>\n",
       "      <th>0</th>\n",
       "      <td>2023-01-01</td>\n",
       "      <td>New York</td>\n",
       "      <td>5.000000</td>\n",
       "      <td>60.0</td>\n",
       "      <td>10.0</td>\n",
       "      <td>Sunny</td>\n",
       "    </tr>\n",
       "    <tr>\n",
       "      <th>1</th>\n",
       "      <td>01/02/2023</td>\n",
       "      <td>New York</td>\n",
       "      <td>8.923529</td>\n",
       "      <td>65.0</td>\n",
       "      <td>12.0</td>\n",
       "      <td>Cloudy</td>\n",
       "    </tr>\n",
       "    <tr>\n",
       "      <th>2</th>\n",
       "      <td>03-01-2023</td>\n",
       "      <td>New York</td>\n",
       "      <td>7.000000</td>\n",
       "      <td>NaN</td>\n",
       "      <td>8.0</td>\n",
       "      <td>Rainy</td>\n",
       "    </tr>\n",
       "    <tr>\n",
       "      <th>4</th>\n",
       "      <td>2023-01-02</td>\n",
       "      <td>London</td>\n",
       "      <td>6.000000</td>\n",
       "      <td>75.0</td>\n",
       "      <td>20.0</td>\n",
       "      <td>Snowy</td>\n",
       "    </tr>\n",
       "    <tr>\n",
       "      <th>5</th>\n",
       "      <td>01/03/2023</td>\n",
       "      <td>London</td>\n",
       "      <td>9.912500</td>\n",
       "      <td>80.0</td>\n",
       "      <td>18.0</td>\n",
       "      <td>Cloudy</td>\n",
       "    </tr>\n",
       "  </tbody>\n",
       "</table>\n",
       "</div>"
      ],
      "text/plain": [
       "         date      city  temperature_celsius  humidity_percent  \\\n",
       "0  2023-01-01  New York             5.000000              60.0   \n",
       "1  01/02/2023  New York             8.923529              65.0   \n",
       "2  03-01-2023  New York             7.000000               NaN   \n",
       "4  2023-01-02    London             6.000000              75.0   \n",
       "5  01/03/2023    London             9.912500              80.0   \n",
       "\n",
       "   wind_speed_kph weather_condition  \n",
       "0            10.0             Sunny  \n",
       "1            12.0            Cloudy  \n",
       "2             8.0             Rainy  \n",
       "4            20.0             Snowy  \n",
       "5            18.0            Cloudy  "
      ]
     },
     "execution_count": 108,
     "metadata": {},
     "output_type": "execute_result"
    }
   ],
   "source": [
    "df.head()"
   ]
  },
  {
   "cell_type": "markdown",
   "id": "49f32d09",
   "metadata": {},
   "source": [
    "- Convert date to standardized format"
   ]
  },
  {
   "cell_type": "code",
   "execution_count": null,
   "id": "a3cf8ec3",
   "metadata": {},
   "outputs": [],
   "source": [
    "import pandas as pd\n",
    "import numpy as np\n",
    "\n",
    "# Sample Data (Replace with your actual data loading)\n",
    "df = pd.read_csv(\"your_file.csv\")\n",
    "\n",
    "# Standardize Date Format using Multiple Formats\n",
    "def standardize_date(date_str):\n",
    "    if pd.isna(date_str):  # If date is missing, return NaT\n",
    "        return np.nan\n",
    "    \n",
    "    for fmt in (\"%Y-%m-%d\", \"%d-%m-%Y\", \"%d.%m.%Y\", \"%m/%d/%Y\", \"%m-%d-%Y\", \"%d/%m/%Y\"):\n",
    "        try:\n",
    "            return pd.to_datetime(date_str, format=fmt).strftime('%Y-%m-%d')\n",
    "        except ValueError:\n",
    "            continue\n",
    "    return np.nan  # If no format matches\n",
    "\n",
    "# Apply the standardization\n",
    "df['date'] = df['date'].apply(standardize_date)\n",
    "\n",
    "print(df['date'].unique())\n"
   ]
  },
  {
   "cell_type": "code",
   "execution_count": 110,
   "id": "959fc293",
   "metadata": {},
   "outputs": [
    {
     "data": {
      "text/html": [
       "<div>\n",
       "<style scoped>\n",
       "    .dataframe tbody tr th:only-of-type {\n",
       "        vertical-align: middle;\n",
       "    }\n",
       "\n",
       "    .dataframe tbody tr th {\n",
       "        vertical-align: top;\n",
       "    }\n",
       "\n",
       "    .dataframe thead th {\n",
       "        text-align: right;\n",
       "    }\n",
       "</style>\n",
       "<table border=\"1\" class=\"dataframe\">\n",
       "  <thead>\n",
       "    <tr style=\"text-align: right;\">\n",
       "      <th></th>\n",
       "      <th>date</th>\n",
       "      <th>city</th>\n",
       "      <th>temperature_celsius</th>\n",
       "      <th>humidity_percent</th>\n",
       "      <th>wind_speed_kph</th>\n",
       "      <th>weather_condition</th>\n",
       "    </tr>\n",
       "  </thead>\n",
       "  <tbody>\n",
       "    <tr>\n",
       "      <th>0</th>\n",
       "      <td>2023-01-01</td>\n",
       "      <td>New York</td>\n",
       "      <td>5.000000</td>\n",
       "      <td>60.0</td>\n",
       "      <td>10.0</td>\n",
       "      <td>Sunny</td>\n",
       "    </tr>\n",
       "    <tr>\n",
       "      <th>1</th>\n",
       "      <td>2023-02-01</td>\n",
       "      <td>New York</td>\n",
       "      <td>8.923529</td>\n",
       "      <td>65.0</td>\n",
       "      <td>12.0</td>\n",
       "      <td>Cloudy</td>\n",
       "    </tr>\n",
       "    <tr>\n",
       "      <th>2</th>\n",
       "      <td>NaN</td>\n",
       "      <td>New York</td>\n",
       "      <td>7.000000</td>\n",
       "      <td>NaN</td>\n",
       "      <td>8.0</td>\n",
       "      <td>Rainy</td>\n",
       "    </tr>\n",
       "    <tr>\n",
       "      <th>4</th>\n",
       "      <td>2023-01-02</td>\n",
       "      <td>London</td>\n",
       "      <td>6.000000</td>\n",
       "      <td>75.0</td>\n",
       "      <td>20.0</td>\n",
       "      <td>Snowy</td>\n",
       "    </tr>\n",
       "    <tr>\n",
       "      <th>5</th>\n",
       "      <td>2023-03-01</td>\n",
       "      <td>London</td>\n",
       "      <td>9.912500</td>\n",
       "      <td>80.0</td>\n",
       "      <td>18.0</td>\n",
       "      <td>Cloudy</td>\n",
       "    </tr>\n",
       "  </tbody>\n",
       "</table>\n",
       "</div>"
      ],
      "text/plain": [
       "         date      city  temperature_celsius  humidity_percent  \\\n",
       "0  2023-01-01  New York             5.000000              60.0   \n",
       "1  2023-02-01  New York             8.923529              65.0   \n",
       "2         NaN  New York             7.000000               NaN   \n",
       "4  2023-01-02    London             6.000000              75.0   \n",
       "5  2023-03-01    London             9.912500              80.0   \n",
       "\n",
       "   wind_speed_kph weather_condition  \n",
       "0            10.0             Sunny  \n",
       "1            12.0            Cloudy  \n",
       "2             8.0             Rainy  \n",
       "4            20.0             Snowy  \n",
       "5            18.0            Cloudy  "
      ]
     },
     "execution_count": 110,
     "metadata": {},
     "output_type": "execute_result"
    }
   ],
   "source": [
    "df.head()"
   ]
  },
  {
   "cell_type": "markdown",
   "id": "0ee81952",
   "metadata": {},
   "source": [
    "- Remove rows with unknown weather condition"
   ]
  },
  {
   "cell_type": "code",
   "execution_count": 79,
   "id": "44ecc6fc",
   "metadata": {},
   "outputs": [],
   "source": [
    "df = df[df['weather_condition'].notna() & (df['weather_condition'] != \"Unknown\")]"
   ]
  },
  {
   "cell_type": "code",
   "execution_count": 80,
   "id": "b5059711",
   "metadata": {},
   "outputs": [
    {
     "data": {
      "text/plain": [
       "(53, 6)"
      ]
     },
     "execution_count": 80,
     "metadata": {},
     "output_type": "execute_result"
    }
   ],
   "source": [
    "df.shape"
   ]
  },
  {
   "cell_type": "code",
   "execution_count": 81,
   "id": "60440a10",
   "metadata": {},
   "outputs": [
    {
     "data": {
      "text/html": [
       "<div>\n",
       "<style scoped>\n",
       "    .dataframe tbody tr th:only-of-type {\n",
       "        vertical-align: middle;\n",
       "    }\n",
       "\n",
       "    .dataframe tbody tr th {\n",
       "        vertical-align: top;\n",
       "    }\n",
       "\n",
       "    .dataframe thead th {\n",
       "        text-align: right;\n",
       "    }\n",
       "</style>\n",
       "<table border=\"1\" class=\"dataframe\">\n",
       "  <thead>\n",
       "    <tr style=\"text-align: right;\">\n",
       "      <th></th>\n",
       "      <th>date</th>\n",
       "      <th>city</th>\n",
       "      <th>temperature_celsius</th>\n",
       "      <th>humidity_percent</th>\n",
       "      <th>wind_speed_kph</th>\n",
       "      <th>weather_condition</th>\n",
       "    </tr>\n",
       "  </thead>\n",
       "  <tbody>\n",
       "    <tr>\n",
       "      <th>0</th>\n",
       "      <td>2023-01-01</td>\n",
       "      <td>New York</td>\n",
       "      <td>5.000000</td>\n",
       "      <td>60.0</td>\n",
       "      <td>10.0</td>\n",
       "      <td>Sunny</td>\n",
       "    </tr>\n",
       "    <tr>\n",
       "      <th>1</th>\n",
       "      <td>NaN</td>\n",
       "      <td>New York</td>\n",
       "      <td>8.923529</td>\n",
       "      <td>65.0</td>\n",
       "      <td>12.0</td>\n",
       "      <td>Cloudy</td>\n",
       "    </tr>\n",
       "    <tr>\n",
       "      <th>2</th>\n",
       "      <td>NaN</td>\n",
       "      <td>New York</td>\n",
       "      <td>7.000000</td>\n",
       "      <td>NaN</td>\n",
       "      <td>8.0</td>\n",
       "      <td>Rainy</td>\n",
       "    </tr>\n",
       "    <tr>\n",
       "      <th>4</th>\n",
       "      <td>2023-01-02</td>\n",
       "      <td>London</td>\n",
       "      <td>6.000000</td>\n",
       "      <td>75.0</td>\n",
       "      <td>20.0</td>\n",
       "      <td>Snowy</td>\n",
       "    </tr>\n",
       "    <tr>\n",
       "      <th>5</th>\n",
       "      <td>NaN</td>\n",
       "      <td>London</td>\n",
       "      <td>9.912500</td>\n",
       "      <td>80.0</td>\n",
       "      <td>18.0</td>\n",
       "      <td>Cloudy</td>\n",
       "    </tr>\n",
       "  </tbody>\n",
       "</table>\n",
       "</div>"
      ],
      "text/plain": [
       "         date      city  temperature_celsius  humidity_percent  \\\n",
       "0  2023-01-01  New York             5.000000              60.0   \n",
       "1         NaN  New York             8.923529              65.0   \n",
       "2         NaN  New York             7.000000               NaN   \n",
       "4  2023-01-02    London             6.000000              75.0   \n",
       "5         NaN    London             9.912500              80.0   \n",
       "\n",
       "   wind_speed_kph weather_condition  \n",
       "0            10.0             Sunny  \n",
       "1            12.0            Cloudy  \n",
       "2             8.0             Rainy  \n",
       "4            20.0             Snowy  \n",
       "5            18.0            Cloudy  "
      ]
     },
     "execution_count": 81,
     "metadata": {},
     "output_type": "execute_result"
    }
   ],
   "source": [
    "df.head()"
   ]
  },
  {
   "cell_type": "code",
   "execution_count": 43,
   "id": "fe04aa1f",
   "metadata": {},
   "outputs": [
    {
     "data": {
      "text/plain": [
       "(80, 6)"
      ]
     },
     "execution_count": 43,
     "metadata": {},
     "output_type": "execute_result"
    }
   ],
   "source": [
    "df.shape"
   ]
  },
  {
   "cell_type": "code",
   "execution_count": 82,
   "id": "1b6c13c7",
   "metadata": {},
   "outputs": [
    {
     "data": {
      "text/plain": [
       "date                   43\n",
       "city                    0\n",
       "temperature_celsius     0\n",
       "humidity_percent       26\n",
       "wind_speed_kph         21\n",
       "weather_condition       0\n",
       "dtype: int64"
      ]
     },
     "execution_count": 82,
     "metadata": {},
     "output_type": "execute_result"
    }
   ],
   "source": [
    "df.isnull().sum()"
   ]
  },
  {
   "cell_type": "code",
   "execution_count": null,
   "id": "aba15684",
   "metadata": {},
   "outputs": [],
   "source": []
  }
 ],
 "metadata": {
  "kernelspec": {
   "display_name": "venv",
   "language": "python",
   "name": "python3"
  },
  "language_info": {
   "codemirror_mode": {
    "name": "ipython",
    "version": 3
   },
   "file_extension": ".py",
   "mimetype": "text/x-python",
   "name": "python",
   "nbconvert_exporter": "python",
   "pygments_lexer": "ipython3",
   "version": "3.12.6"
  }
 },
 "nbformat": 4,
 "nbformat_minor": 5
}
